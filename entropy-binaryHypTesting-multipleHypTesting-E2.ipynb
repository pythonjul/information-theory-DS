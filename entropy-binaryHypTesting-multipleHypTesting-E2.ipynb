{
 "cells": [
  {
   "cell_type": "code",
   "execution_count": 1,
   "metadata": {},
   "outputs": [],
   "source": [
    "import numpy as np\n",
    "import matplotlib.pyplot as plt\n",
    "from dahuffman import HuffmanCodec"
   ]
  },
  {
   "cell_type": "code",
   "execution_count": 2,
   "metadata": {},
   "outputs": [],
   "source": [
    "def bin_2_symbole(word, table):\n",
    "    w = [table[int(\"\".join(map(str, word[i])), base=2)] for i in range(word.shape[0])]  \n",
    "    return \"\".join(map(str, w))\n",
    "\n",
    "def word_2_number(word): \n",
    "    return [int(\"\".join(map(str, word[i])), base=2) for i in range(word.shape[0])]\n",
    "\n",
    "def generate_sequ(nb_symb, long, proba):\n",
    "    q=np.int(np.round(1 / proba))\n",
    "    x = np.random.randint(0, q, nb_symb * long)\n",
    "    x[x < 9] = 0\n",
    "    x[x == 9] = 1\n",
    "    x = x.reshape((nb_symb, long))\n",
    "    return x\n",
    "\n",
    "def vec_bin_array(arr, m): \n",
    "    to_str_func = np.vectorize(lambda x: np.binary_repr(x).zfill(m))\n",
    "    strs = to_str_func(arr)\n",
    "    ret = np.zeros(list(arr.shape) + [m], dtype=np.int8)\n",
    "    for bit_ix in range(0, m):\n",
    "        fetch_bit_func = np.vectorize(lambda x: x[bit_ix] == '1')\n",
    "        ret[...,bit_ix] = fetch_bit_func(strs).astype(\"int8\")\n",
    "    return ret \n",
    "\n",
    "def FT(word,table):\n",
    "    word=word_2_number(word)\n",
    "    len_t = len(table)\n",
    "    h = np.histogram(word, bins=np.arange(len_t + 1))\n",
    "    temp = {}\n",
    "    for i in range(len_t):\n",
    "        temp[table[i]] = h[0][i]\n",
    "    return temp"
   ]
  },
  {
   "cell_type": "code",
   "execution_count": 46,
   "metadata": {},
   "outputs": [],
   "source": [
    "nb_symb = 2000\n",
    "length = 5\n",
    "prob=0.1\n",
    "#table = ['1_','2_','3_','4_', '5_', '6_', '7_', '8_', '9_', '10_', '11_', '12_', '13_', '14_', '15_', '16_', '17_', '18_', '19_', '20_', '21_', '22_','23_', '24_', '25', '26_', '27_', '28_', '29_', '30_', '31_','32_']\n",
    "table = ['a', 'b', 'c', 'd', 'e', 'f', 'g', 'h', 'i', 'j', 'k', 'l', 'm', 'n', 'o', 'p', 'q', 'r', 's', 't', 'u', 'v', 'w', 'x', 'y', 'z', 'é', 'à', 'ö', 'ä', 'è','ü']\n",
    "\n",
    "matrice_binaire=generate_sequ(nb_symb, length, prob)\n",
    "#print('matrice binaire\\n' ,matrice_binaire)\n",
    "\n",
    "liste_symboles=bin_2_symbole(matrice_binaire,table)\n",
    "#print(bin_2_symbole(matrice_binaire,table))"
   ]
  },
  {
   "cell_type": "code",
   "execution_count": 47,
   "metadata": {},
   "outputs": [
    {
     "name": "stdout",
     "output_type": "stream",
     "text": [
      "\n",
      "codec Huffman selon frequence : \n",
      "\n",
      "Bits Code             Value Symbol\n",
      "   3 000                  0 'e'\n",
      "   6 001000               8 'u'\n",
      "   6 001001               9 'k'\n",
      "   6 001010              10 'r'\n",
      "   6 001011              11 's'\n",
      "  10 0011000000         192 't'\n",
      "  10 0011000001         193 'w'\n",
      "  10 0011000010         194 'z'\n",
      "  10 0011000011         195 'à'\n",
      "   8 00110001            49 'v'\n",
      "  10 0011001000         200 'é'\n",
      "  10 0011001001         201 'ö'\n",
      "   9 001100101          101 'o'\n",
      "   9 001100110          102 'x'\n",
      "  10 0011001110         206 'h'\n",
      "  16 0011001111000000 13248 'l'\n",
      "  16 0011001111000001 13249 'n'\n",
      "  15 001100111100001   6625 'ä'\n",
      "  14 00110011110001    3313 'è'\n",
      "  13 0011001111001     1657 'ü'\n",
      "  12 001100111101       829 _EOF\n",
      "  11 00110011111        415 'p'\n",
      "   7 0011010             26 'm'\n",
      "   7 0011011             27 'f'\n",
      "   7 0011100             28 'j'\n",
      "   7 0011101             29 'y'\n",
      "   7 0011110             30 'g'\n",
      "   7 0011111             31 'd'\n",
      "   4 0100                 4 'b'\n",
      "   4 0101                 5 'q'\n",
      "   4 0110                 6 'i'\n",
      "   4 0111                 7 'c'\n",
      "   1 1                    1 'a'\n"
     ]
    }
   ],
   "source": [
    "table_frequ=FT(matrice_binaire,table)\n",
    "#print('table des frequences:\\n' ,table_frequ)\n",
    "\n",
    "codec = HuffmanCodec.from_frequencies(table_frequ)\n",
    "print('\\ncodec Huffman selon frequence : \\n')\n",
    "codec.print_code_table()"
   ]
  },
  {
   "cell_type": "code",
   "execution_count": 48,
   "metadata": {},
   "outputs": [
    {
     "name": "stdout",
     "output_type": "stream",
     "text": [
      "0.9999999999999998\n",
      "[0.592, 0.057, 0.0655, 0.008, 0.071, 0.007, 0.0075, 0.001, 0.0645, 0.007, 0.0085, 0.0065, 0.0015, 0.0005, 0.062, 0.009, 0.01, 0.0005, 0.008, 0.002, 0.0005, 0.0015, 0.007, 0.0005, 0.0005, 0.0005, 0.0005]\n",
      "27\n",
      "l'entropie pour notre exemple est de:  2.36\n",
      "l'entropie maximale pour notre exemple est de:  4.52\n",
      "nb bits codage de huffman: 4357\n"
     ]
    }
   ],
   "source": [
    "res = [] #sauf les vals égales à 0\n",
    "for key in table_frequ.keys() : \n",
    "    if table_frequ[key]!=0:\n",
    "        res.append(table_frequ[key]/nb_symb) \n",
    "\n",
    "print(np.sum(res))\n",
    "print(res)\n",
    "print(len(res))\n",
    "\n",
    "my_entr=-np.sum(res*np.log2(res))\n",
    "print(\"l'entropie pour notre exemple est de: \",np.round(my_entr,2))\n",
    "max_entr=-23*(1/23)*np.log2(1/23)\n",
    "print(\"l'entropie maximale pour notre exemple est de: \",np.round(max_entr,2))\n",
    "\n",
    "temp = codec.encode(liste_symboles)\n",
    "ww = []\n",
    "for i in temp:\n",
    "    ww.append(np.str(bin(i)[2:]))\n",
    "ww = \"\".join(map(str, ww))\n",
    "print('nb bits codage de huffman:',len(ww))"
   ]
  },
  {
   "cell_type": "code",
   "execution_count": null,
   "metadata": {},
   "outputs": [],
   "source": []
  },
  {
   "cell_type": "code",
   "execution_count": null,
   "metadata": {},
   "outputs": [],
   "source": []
  },
  {
   "cell_type": "code",
   "execution_count": null,
   "metadata": {},
   "outputs": [],
   "source": []
  }
 ],
 "metadata": {
  "kernelspec": {
   "display_name": "Python 3",
   "language": "python",
   "name": "python3"
  },
  "language_info": {
   "codemirror_mode": {
    "name": "ipython",
    "version": 3
   },
   "file_extension": ".py",
   "mimetype": "text/x-python",
   "name": "python",
   "nbconvert_exporter": "python",
   "pygments_lexer": "ipython3",
   "version": "3.7.3"
  }
 },
 "nbformat": 4,
 "nbformat_minor": 2
}
