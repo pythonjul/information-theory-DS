{
 "cells": [
  {
   "cell_type": "code",
   "execution_count": 1,
   "metadata": {},
   "outputs": [],
   "source": [
    "import numpy as np\n",
    "import os\n",
    "import random\n",
    "import pandas as pd\n",
    "from sklearn.decomposition import PCA\n",
    "import matplotlib.pyplot as plt\n",
    "import sklearn.datasets, sklearn.decomposition\n",
    "from matplotlib.transforms import ScaledTranslation\n",
    "\n",
    "\n",
    "def traintestMNIST(labels=None, ntrain=None, ntest=None, path=os.path.join('data_for_python', 'mnist.npz')):\n",
    "    mnist = np.load(path)\n",
    "    train_x = mnist['train_x']\n",
    "    train_y = mnist['train_y']\n",
    "    train = np.asarray(list(zip(train_x, train_y)))\n",
    "\n",
    "    test_x = mnist['test_x']\n",
    "    test_y = mnist['test_y']\n",
    "    test = np.asarray(list(zip(test_x, test_y)))\n",
    "\n",
    "    if labels:\n",
    "        train = list(train[np.hstack([np.where(train_y==l) for l in labels]).squeeze()])\n",
    "        test = list(test[np.hstack([np.where(test_y==l) for l in labels]).squeeze()])\n",
    "\n",
    "    random.shuffle(train)\n",
    "    random.shuffle(test)\n",
    "\n",
    "    train_x, train_y = zip(*train)\n",
    "    test_x, test_y = zip(*test)\n",
    "\n",
    "    if ntrain:\n",
    "        train_x = train_x[:ntrain]\n",
    "        train_y = train_y[:ntrain]\n",
    "\n",
    "    if ntest:\n",
    "        test_x = test_x[:ntest]\n",
    "        test_y = test_y[:ntest]\n",
    "\n",
    "    return np.asarray(train_x), np.asarray(train_y), np.asarray(test_x), np.asarray(test_y)"
   ]
  },
  {
   "cell_type": "code",
   "execution_count": 2,
   "metadata": {},
   "outputs": [],
   "source": [
    "#trainImages, trainLabels, testImages, testLabels\n",
    "tI, tL, teI, teL = traintestMNIST([0,1,2,3,4],5000)"
   ]
  },
  {
   "cell_type": "code",
   "execution_count": 3,
   "metadata": {},
   "outputs": [
    {
     "name": "stdout",
     "output_type": "stream",
     "text": [
      "Nombre de tests réussis sur 5000: 4921 , ce qui donne un pourcentage de: 0.9842\n"
     ]
    }
   ],
   "source": [
    "from sklearn.neighbors import NearestNeighbors\n",
    "neigh = NearestNeighbors(n_neighbors=1)\n",
    "neigh.fit(tI)\n",
    "'''\n",
    "teest=[]\n",
    "print(neigh.kneighbors([tI[0,:]]))\n",
    "print(neigh.kneighbors([tI[0,:]])[1])\n",
    "flattened = [val for sublist in neigh.kneighbors([tI[4999,:]], return_distance=False) for val in sublist][0]\n",
    "print(flattened)\n",
    "'''\n",
    "#print(tL[flattened[0]])\n",
    "#print(teL[flattened[0]])\n",
    "\n",
    "ma_val=0\n",
    "for i in range(5000):\n",
    "    fl = [val for sublist in neigh.kneighbors([teI[i,:]], return_distance=False) for val in sublist][0] #pour flatten la valeur\n",
    "    #fl contient l'indice du NN-1 présent dans la liste tI\n",
    "    #print(tL[fl],teL[i])\n",
    "    if (tL[fl] == teL[i]):\n",
    "        ma_val+=1\n",
    "        \n",
    "print('Nombre de tests réussis sur 5000:',ma_val,\", ce qui donne un pourcentage de:\",ma_val/5000)\n",
    "    \n",
    "# https://scikit-learn.org/stable/modules/generated/sklearn.neighbors.KNeighborsClassifier.html#sklearn.neighbors.KNeighborsClassifier\n"
   ]
  },
  {
   "cell_type": "code",
   "execution_count": 4,
   "metadata": {},
   "outputs": [
    {
     "data": {
      "text/plain": [
       "KNeighborsClassifier(algorithm='auto', leaf_size=30, metric='minkowski',\n",
       "                     metric_params=None, n_jobs=None, n_neighbors=1, p=2,\n",
       "                     weights='uniform')"
      ]
     },
     "execution_count": 4,
     "metadata": {},
     "output_type": "execute_result"
    }
   ],
   "source": [
    "#partie 2)\n",
    "from sklearn.neighbors import KNeighborsClassifier\n",
    "\n",
    "pca = PCA() \n",
    "pca.fit(tI)\n",
    "pcs = pca.components_ \n",
    "mu=pca.mean_ \n",
    "\n",
    "cl = KNeighborsClassifier(n_neighbors=1)\n",
    "cl.fit(tI,tL)"
   ]
  },
  {
   "cell_type": "code",
   "execution_count": 5,
   "metadata": {},
   "outputs": [],
   "source": [
    "liste=np.append([10,20,30,40],range(50,751,50))\n",
    "#err=np.zeros(len(liste))\n",
    "#it=0\n",
    "liste2=[1,3]\n",
    "err=[]\n",
    "for m in liste:\n",
    "    pc=pcs[0:m+1] \n",
    "    prod_scal=(tI-mu)@(pc.T).real \n",
    "    rec=((prod_scal@pc)+mu).real \n",
    "    #err[it]=np.mean((np.apply_along_axis(np.linalg.norm, 0, tI - rec)) ** 2)\n",
    "    #it=it+1\n",
    "    #print(cl.predict(rec))\n",
    "    err.append(np.mean(cl.predict(rec)!=tL)) #ajoute au vect err l'esperance de l'erreur commise par la reconstruction PCA par rapport à son label original"
   ]
  },
  {
   "cell_type": "code",
   "execution_count": 6,
   "metadata": {},
   "outputs": [
    {
     "data": {
      "text/plain": [
       "Text(0, 0.5, 'erreur')"
      ]
     },
     "execution_count": 6,
     "metadata": {},
     "output_type": "execute_result"
    },
    {
     "data": {
      "image/png": "[encoded data removed]",
      "text/plain": [
       "<Figure size 432x288 with 1 Axes>"
      ]
     },
     "metadata": {
      "needs_background": "light"
     },
     "output_type": "display_data"
    }
   ],
   "source": [
    "plt.plot(liste,err)\n",
    "plt.title(\"esperance de l'erreur suite à PCA + 1-NN\")\n",
    "plt.xlabel(\"nombre de PC_i\")\n",
    "plt.ylabel(\"erreur\")"
   ]
  },
  {
   "cell_type": "code",
   "execution_count": 7,
   "metadata": {},
   "outputs": [],
   "source": [
    "#rec.shape#(5000, 784)\n",
    "#tI.shape (5000, 784)"
   ]
  },
  {
   "cell_type": "code",
   "execution_count": 8,
   "metadata": {},
   "outputs": [
    {
     "name": "stdout",
     "output_type": "stream",
     "text": [
      "[0.0564, 0.0066, 0.0008, 0.0002, 0.0, 0.0, 0.0, 0.0, 0.0, 0.0, 0.0, 0.0, 0.0, 0.0, 0.0, 0.0, 0.0, 0.0, 0.0]\n"
     ]
    }
   ],
   "source": [
    "print(err)"
   ]
  },
  {
   "cell_type": "code",
   "execution_count": null,
   "metadata": {},
   "outputs": [],
   "source": []
  }
 ],
 "metadata": {
  "kernelspec": {
   "display_name": "Python 3",
   "language": "python",
   "name": "python3"
  },
  "language_info": {
   "codemirror_mode": {
    "name": "ipython",
    "version": 3
   },
   "file_extension": ".py",
   "mimetype": "text/x-python",
   "name": "python",
   "nbconvert_exporter": "python",
   "pygments_lexer": "ipython3",
   "version": "3.7.3"
  }
 },
 "nbformat": 4,
 "nbformat_minor": 2
}
