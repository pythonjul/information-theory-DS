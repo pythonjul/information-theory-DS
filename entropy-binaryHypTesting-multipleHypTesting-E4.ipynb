{
 "cells": [
  {
   "cell_type": "code",
   "execution_count": 1,
   "metadata": {},
   "outputs": [],
   "source": [
    "import numpy as np\n",
    "import matplotlib.pyplot as plt\n",
    "from scipy.integrate import quad\n",
    "from scipy import stats"
   ]
  },
  {
   "cell_type": "code",
   "execution_count": 2,
   "metadata": {},
   "outputs": [],
   "source": [
    "M=200\n",
    "N=1000\n",
    "\n",
    "mu0,sigma0=0,1\n",
    "\n",
    "def fct_e4():\n",
    "    X = np.random.normal(mu0, sigma0, [M,N])\n",
    "\n",
    "    mu, sigma = 0, 10 # mean and standard deviation\n",
    "    noise = np.random.normal(mu, sigma, [M,N])\n",
    "\n",
    "    Y = X + noise\n",
    "\n",
    "    success=0\n",
    "    for k in range(M):\n",
    "        if k == np.argmin([np.linalg.norm(Y[k]-X[i]) for i in range(X.shape[0])]):\n",
    "            success=success+1\n",
    "    #print(success,'sur',M)\n",
    "    #print(success/M)\n",
    "    return success"
   ]
  },
  {
   "cell_type": "code",
   "execution_count": 3,
   "metadata": {},
   "outputs": [],
   "source": [
    "a=np.array([fct_e4() for _ in range(200)])"
   ]
  },
  {
   "cell_type": "code",
   "execution_count": 4,
   "metadata": {},
   "outputs": [
    {
     "name": "stdout",
     "output_type": "stream",
     "text": [
      "l'esperance de réussite de 200 essais:  0.65\n",
      "la variance de réussite de 200 essais:  0.24\n",
      "le maximum de réussite des 200 essais:  0.75\n",
      "le minimum de réussite des 200 essais:  0.555\n"
     ]
    }
   ],
   "source": [
    "p_mean=np.mean(a)/M\n",
    "p_var=np.var(a)/M\n",
    "p_max=np.max(a)/M\n",
    "p_min=np.min(a)/M\n",
    "\n",
    "print(\"l'esperance de réussite de 200 essais: \",np.round(p_mean,2))\n",
    "print(\"la variance de réussite de 200 essais: \",np.round(p_var,2))\n",
    "print(\"le maximum de réussite des 200 essais: \",p_max)\n",
    "print(\"le minimum de réussite des 200 essais: \",p_min)"
   ]
  },
  {
   "cell_type": "code",
   "execution_count": 9,
   "metadata": {},
   "outputs": [
    {
     "name": "stdout",
     "output_type": "stream",
     "text": [
      "1\n",
      "1.0\n"
     ]
    }
   ],
   "source": [
    "#5)\n",
    "\n",
    "X = np.random.normal(mu0, sigma0, [M,N])\n",
    "\n",
    "mu, sigma = 0, 10 # mean and standard deviation\n",
    "noise = np.random.normal(mu, sigma, [M,N])\n",
    "\n",
    "Y = X + noise\n",
    "\n",
    "success=0\n",
    "for k in range(M):\n",
    "    if k == np.argmin([np.linalg.norm(Y[k]-X[i]) for i in range(X.shape[0])]):\n",
    "        success=success+1\n",
    "\n",
    "#eps_s=np.sum(Y**2)\n",
    "eps_s=1\n",
    "print(eps_s)\n",
    "#var_noise=sigma**2\n",
    "var_noise=100\n",
    "\n",
    "def integrand(t):\n",
    "    return (((stats.norm.cdf(t+0.5*eps_s)/(np.sqrt(var_noise*eps_s)))**(M-1)) * (1/(np.sqrt(2*np.pi*var_noise*eps_s))) * np.exp(-(1/(2*var_noise*eps_s))*((t-0.5*eps_s)**2)))\n",
    "\n",
    "\n",
    "I = quad(integrand, -np.inf , np.inf)\n",
    "\n",
    "#print(I)\n",
    "print(1-I[0])"
   ]
  },
  {
   "cell_type": "code",
   "execution_count": 6,
   "metadata": {},
   "outputs": [
    {
     "name": "stdout",
     "output_type": "stream",
     "text": [
      "112\n",
      "200\n"
     ]
    }
   ],
   "source": [
    "b=np.array([2,2,2,10])\n",
    "print(np.sum(b**2))\n",
    "print(M)"
   ]
  },
  {
   "cell_type": "code",
   "execution_count": 10,
   "metadata": {},
   "outputs": [
    {
     "data": {
      "text/plain": [
       "-20.0"
      ]
     },
     "execution_count": 10,
     "metadata": {},
     "output_type": "execute_result"
    }
   ],
   "source": [
    "10*np.log10(1/100)"
   ]
  },
  {
   "cell_type": "code",
   "execution_count": null,
   "metadata": {},
   "outputs": [],
   "source": []
  }
 ],
 "metadata": {
  "kernelspec": {
   "display_name": "Python 3",
   "language": "python",
   "name": "python3"
  },
  "language_info": {
   "codemirror_mode": {
    "name": "ipython",
    "version": 3
   },
   "file_extension": ".py",
   "mimetype": "text/x-python",
   "name": "python",
   "nbconvert_exporter": "python",
   "pygments_lexer": "ipython3",
   "version": "3.7.3"
  }
 },
 "nbformat": 4,
 "nbformat_minor": 2
}
