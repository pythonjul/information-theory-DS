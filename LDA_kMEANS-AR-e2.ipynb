{
 "cells": [
  {
   "cell_type": "code",
   "execution_count": 1,
   "metadata": {},
   "outputs": [],
   "source": [
    "import numpy as np\n",
    "import os\n",
    "import random\n",
    "import pandas as pd\n",
    "from sklearn.decomposition import PCA\n",
    "import matplotlib.pyplot as plt\n",
    "import sklearn.datasets, sklearn.decomposition\n",
    "from matplotlib.transforms import ScaledTranslation\n",
    "from sklearn.metrics import confusion_matrix\n",
    "from sklearn.neighbors import KNeighborsClassifier\n",
    "from sklearn.cluster import KMeans\n",
    "from sklearn.metrics import confusion_matrix\n",
    "\n",
    "\n",
    "def traintestMNIST(labels=None, ntrain=None, ntest=None, path=os.path.join('data_for_python', 'mnist.npz')):\n",
    "    mnist = np.load(path)\n",
    "    train_x = mnist['train_x']\n",
    "    train_y = mnist['train_y']\n",
    "    train = np.asarray(list(zip(train_x, train_y)))\n",
    "\n",
    "    test_x = mnist['test_x']\n",
    "    test_y = mnist['test_y']\n",
    "    test = np.asarray(list(zip(test_x, test_y)))\n",
    "\n",
    "    if labels:\n",
    "        train = list(train[np.hstack([np.where(train_y==l) for l in labels]).squeeze()])\n",
    "        test = list(test[np.hstack([np.where(test_y==l) for l in labels]).squeeze()])\n",
    "\n",
    "    random.shuffle(train)\n",
    "    random.shuffle(test)\n",
    "\n",
    "    train_x, train_y = zip(*train)\n",
    "    test_x, test_y = zip(*test)\n",
    "\n",
    "    if ntrain:\n",
    "        train_x = train_x[:ntrain]\n",
    "        train_y = train_y[:ntrain]\n",
    "\n",
    "    if ntest:\n",
    "        test_x = test_x[:ntest]\n",
    "        test_y = test_y[:ntest]\n",
    "\n",
    "    return np.asarray(train_x), np.asarray(train_y), np.asarray(test_x), np.asarray(test_y)"
   ]
  },
  {
   "cell_type": "code",
   "execution_count": 2,
   "metadata": {},
   "outputs": [],
   "source": [
    "[trainImages, trainLabels, testImages, testLabels] = traintestMNIST([3,7], 2000)"
   ]
  },
  {
   "cell_type": "code",
   "execution_count": null,
   "metadata": {},
   "outputs": [],
   "source": []
  },
  {
   "cell_type": "code",
   "execution_count": 3,
   "metadata": {},
   "outputs": [],
   "source": [
    "def J(x, y, k):\n",
    "    temp=0\n",
    "    for j in range(k):\n",
    "        index_y = np.where(y == j)[0]\n",
    "        g_j=np.mean(x[index_y],axis=0)\n",
    "        for i in index_y:\n",
    "            temp=temp+np.linalg.norm(x[i] - g_j)**2\n",
    "    return temp"
   ]
  },
  {
   "cell_type": "code",
   "execution_count": 4,
   "metadata": {},
   "outputs": [],
   "source": [
    "v=[]\n",
    "for k in np.uint(np.linspace(2,10,9)):\n",
    "    kmeans = KMeans(n_clusters=k, random_state=0).fit(trainImages)\n",
    "    v.append(J(trainImages,kmeans.labels_,k))"
   ]
  },
  {
   "cell_type": "code",
   "execution_count": 5,
   "metadata": {},
   "outputs": [
    {
     "data": {
      "image/png": "[encoded data removed]",
      "text/plain": [
       "<Figure size 432x288 with 1 Axes>"
      ]
     },
     "metadata": {
      "needs_background": "light"
     },
     "output_type": "display_data"
    }
   ],
   "source": [
    "plt.plot(np.linspace(2,10,9),v)\n",
    "plt.xlabel('k')\n",
    "plt.ylabel('J(x, y, k)')\n",
    "plt.title('effect of k over J')\n",
    "plt.show()"
   ]
  },
  {
   "cell_type": "code",
   "execution_count": 6,
   "metadata": {},
   "outputs": [
    {
     "name": "stdout",
     "output_type": "stream",
     "text": [
      "[[  52  958]\n",
      " [1004   24]]\n"
     ]
    }
   ],
   "source": [
    "'''kmeans = KMeans(n_clusters=2, random_state=0).fit(trainImages)\n",
    "kmeans_est=kmeans.predict(testImages)\n",
    "\n",
    "temp2=np.where(kmeans_est==1)[0]\n",
    "kmeans_est_bis=np.uint(np.zeros(len(kmeans_est))+3) #trick pr transformer les 0 en 7 et 1 en 3\n",
    "for i in temp2:\n",
    "    kmeans_est_bis[i]=7\n",
    "\n",
    "cm=confusion_matrix(testLabels,kmeans_est_bis)\n",
    "print(cm)\n",
    "'''"
   ]
  },
  {
   "cell_type": "code",
   "execution_count": 7,
   "metadata": {},
   "outputs": [],
   "source": [
    "#kmeans_est-testLabels\n",
    "#print(kmeans_est)\n",
    "\n",
    "#print(temp2)\n",
    "#print(kmeans_est)\n",
    "#print(testLabels)\n",
    "#print(bb)\n",
    "#bbb=np.where(bb!=testLabels)\n",
    "#print(len(kmeans_est))\n",
    "#print(len(np.where(kmeans_est_bis-testLabels!=0)[0]))\n"
   ]
  },
  {
   "cell_type": "code",
   "execution_count": 8,
   "metadata": {},
   "outputs": [
    {
     "name": "stdout",
     "output_type": "stream",
     "text": [
      "[[  28 1107]\n",
      " [ 892   82]]\n"
     ]
    }
   ],
   "source": [
    "'''[trainImages2, trainLabels2, testImages2, testLabels2] = traintestMNIST([1,8], 2000)\n",
    "kmeans2 = KMeans(n_clusters=2, random_state=0).fit(trainImages2)\n",
    "kmeans_est2=kmeans2.predict(testImages2)\n",
    "temp2_2=np.where(kmeans_est2==1)[0]\n",
    "kmeans_est_bis2=np.uint(np.zeros(len(kmeans_est2))+8) #trick pr transformer les 0 en 7 et 1 en 3\n",
    "for i in temp2_2:\n",
    "    kmeans_est_bis2[i]=1\n",
    "cm2=confusion_matrix(testLabels2,kmeans_est_bis2)\n",
    "print(cm2)'''"
   ]
  },
  {
   "cell_type": "code",
   "execution_count": 9,
   "metadata": {},
   "outputs": [
    {
     "name": "stdout",
     "output_type": "stream",
     "text": [
      "[[323 687]\n",
      " [547 345]]\n"
     ]
    }
   ],
   "source": [
    "'''[trainImages3, trainLabels3, testImages3, testLabels3] = traintestMNIST([3,5], 2000)\n",
    "kmeans3 = KMeans(n_clusters=2, random_state=0).fit(trainImages3)\n",
    "kmeans_est3=kmeans3.predict(testImages3)\n",
    "temp2_3=np.where(kmeans_est3==1)[0]\n",
    "kmeans_est_bis3=np.uint(np.zeros(len(kmeans_est3))+3) #trick pr transformer les 0 en 7 et 1 en 3\n",
    "for i in temp2_3:\n",
    "    kmeans_est_bis3[i]=5\n",
    "cm3=confusion_matrix(testLabels3,kmeans_est_bis3)\n",
    "print(cm3)'''"
   ]
  },
  {
   "cell_type": "code",
   "execution_count": 10,
   "metadata": {},
   "outputs": [
    {
     "name": "stdout",
     "output_type": "stream",
     "text": [
      "[[  0   0   0   0]\n",
      " [  0   0   0   0]\n",
      " [823 187   0   0]\n",
      " [345 547   0   0]]\n"
     ]
    }
   ],
   "source": [
    "'''[trainImages4, trainLabels4, testImages4, testLabels4] = traintestMNIST([3,5], 2000)\n",
    "\n",
    "kmeans4 = KMeans(n_clusters=2)\n",
    "kmeans4.fit(testImages4)\n",
    "\n",
    "kmeans_est4=kmeans4.predict(testImages4)\n",
    "\n",
    "cm3=confusion_matrix(testLabels4,kmeans_est4)\n",
    "print(cm3)'''"
   ]
  },
  {
   "cell_type": "code",
   "execution_count": 11,
   "metadata": {},
   "outputs": [],
   "source": [
    "#print(testLabels4)\n",
    "#print(kmeans_est4)"
   ]
  },
  {
   "cell_type": "code",
   "execution_count": 26,
   "metadata": {},
   "outputs": [
    {
     "data": {
      "text/plain": [
       "'temp4=np.where(kmeans_est4==1)[0]\\nkmeans_est_bis4=np.uint(np.zeros(len(kmeans_est4))+3) #trick pr transformer les 0 en 7 et 1 en 3\\nfor i in temp4:\\n    kmeans_est_bis4[i]=5\\ncm4=confusion_matrix(testLabels4,kmeans_est_bis4)\\nprint(cm4)'"
      ]
     },
     "execution_count": 26,
     "metadata": {},
     "output_type": "execute_result"
    }
   ],
   "source": [
    "'''temp4=np.where(kmeans_est4==1)[0]\n",
    "kmeans_est_bis4=np.uint(np.zeros(len(kmeans_est4))+3) #trick pr transformer les 0 en 7 et 1 en 3\n",
    "for i in temp4:\n",
    "    kmeans_est_bis4[i]=5\n",
    "cm4=confusion_matrix(testLabels4,kmeans_est_bis4)\n",
    "print(cm4)'''"
   ]
  },
  {
   "cell_type": "code",
   "execution_count": 22,
   "metadata": {},
   "outputs": [],
   "source": [
    "def g(n1,n2):\n",
    "    [trainImages4, trainLabels4, testImages4, testLabels4] = traintestMNIST([n1,n2], 2000)\n",
    "    temp4=np.where(kmeans_est4==1)[0]\n",
    "    kmeans_est_bis4=np.uint(np.zeros(len(kmeans_est4))+ n1) #trick pr transformer \n",
    "    for i in temp4:\n",
    "        kmeans_est_bis4[i]=n2\n",
    "    cm4=confusion_matrix(testLabels4,kmeans_est_bis4)\n",
    "    return cm4"
   ]
  },
  {
   "cell_type": "code",
   "execution_count": 17,
   "metadata": {},
   "outputs": [],
   "source": [
    "'''cm_3_5=[]\n",
    "for _ in range(50):\n",
    "    cm_3_5.append(g(3,5))'''\n",
    "    \n"
   ]
  },
  {
   "cell_type": "code",
   "execution_count": 25,
   "metadata": {},
   "outputs": [],
   "source": [
    "cm_37 = []\n",
    "for _ in range(50):\n",
    "    cm_37.append(g(3,5))\n"
   ]
  },
  {
   "cell_type": "code",
   "execution_count": null,
   "metadata": {},
   "outputs": [],
   "source": [
    "print('Pour matrice de confusion:\\n\\n  LDA\\n\\n  1-NN')\n",
    "print('---------\\nmean:\\n')\n",
    "print(np.mean(c,0))\n",
    "print('---------\\nmedian:\\n')\n",
    "print(np.median(c,0))\n",
    "print('---------\\nmin:\\n')\n",
    "print(np.amin(c,0))\n",
    "print('---------\\nmax:\\n')\n",
    "print(np.amax(c,0))"
   ]
  },
  {
   "cell_type": "code",
   "execution_count": null,
   "metadata": {},
   "outputs": [],
   "source": []
  }
 ],
 "metadata": {
  "kernelspec": {
   "display_name": "Python 3",
   "language": "python",
   "name": "python3"
  },
  "language_info": {
   "codemirror_mode": {
    "name": "ipython",
    "version": 3
   },
   "file_extension": ".py",
   "mimetype": "text/x-python",
   "name": "python",
   "nbconvert_exporter": "python",
   "pygments_lexer": "ipython3",
   "version": "3.7.3"
  }
 },
 "nbformat": 4,
 "nbformat_minor": 2
}
