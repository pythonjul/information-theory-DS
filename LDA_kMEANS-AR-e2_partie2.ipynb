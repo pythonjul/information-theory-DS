{
 "cells": [
  {
   "cell_type": "code",
   "execution_count": 1,
   "metadata": {},
   "outputs": [],
   "source": [
    "import numpy as np\n",
    "import os\n",
    "import random\n",
    "import pandas as pd\n",
    "from sklearn.decomposition import PCA\n",
    "import matplotlib.pyplot as plt\n",
    "import sklearn.datasets, sklearn.decomposition\n",
    "from matplotlib.transforms import ScaledTranslation\n",
    "from sklearn.metrics import confusion_matrix\n",
    "from sklearn.neighbors import KNeighborsClassifier\n",
    "from sklearn.cluster import KMeans\n",
    "from sklearn.metrics import confusion_matrix\n",
    "\n",
    "\n",
    "def traintestMNIST(labels=None, ntrain=None, ntest=None, path=os.path.join('data_for_python', 'mnist.npz')):\n",
    "    mnist = np.load(path)\n",
    "    train_x = mnist['train_x']\n",
    "    train_y = mnist['train_y']\n",
    "    train = np.asarray(list(zip(train_x, train_y)))\n",
    "\n",
    "    test_x = mnist['test_x']\n",
    "    test_y = mnist['test_y']\n",
    "    test = np.asarray(list(zip(test_x, test_y)))\n",
    "\n",
    "    if labels:\n",
    "        train = list(train[np.hstack([np.where(train_y==l) for l in labels]).squeeze()])\n",
    "        test = list(test[np.hstack([np.where(test_y==l) for l in labels]).squeeze()])\n",
    "\n",
    "    random.shuffle(train)\n",
    "    random.shuffle(test)\n",
    "\n",
    "    train_x, train_y = zip(*train)\n",
    "    test_x, test_y = zip(*test)\n",
    "\n",
    "    if ntrain:\n",
    "        train_x = train_x[:ntrain]\n",
    "        train_y = train_y[:ntrain]\n",
    "\n",
    "    if ntest:\n",
    "        test_x = test_x[:ntest]\n",
    "        test_y = test_y[:ntest]\n",
    "\n",
    "    return np.asarray(train_x), np.asarray(train_y), np.asarray(test_x), np.asarray(test_y)"
   ]
  },
  {
   "cell_type": "code",
   "execution_count": 8,
   "metadata": {},
   "outputs": [],
   "source": [
    "def g(n1,n2):\n",
    "    [trainImages3, trainLabels3, testImages3, testLabels3] = traintestMNIST([n1,n2], 2000)\n",
    "    kmeans3 = KMeans(n_clusters=2, random_state=0).fit(trainImages3)\n",
    "    kmeans_est3=kmeans3.predict(testImages3)\n",
    "    temp2_3=np.where(kmeans_est3==1)[0]\n",
    "    kmeans_est_bis3=np.uint(np.zeros(len(kmeans_est3))+n1) #trick pr transformer les 0 en 7 et 1 en 3\n",
    "    for i in temp2_3:\n",
    "        kmeans_est_bis3[i]=n2\n",
    "    cm3=confusion_matrix(testLabels3,kmeans_est_bis3)\n",
    "    return(cm3)"
   ]
  },
  {
   "cell_type": "code",
   "execution_count": 9,
   "metadata": {},
   "outputs": [],
   "source": [
    "cm_37 = []\n",
    "for _ in range(50):\n",
    "    cm_37.append(g(3,7))"
   ]
  },
  {
   "cell_type": "code",
   "execution_count": 13,
   "metadata": {},
   "outputs": [
    {
     "name": "stdout",
     "output_type": "stream",
     "text": [
      "Pour matrice de confusion:\n",
      "\n",
      " 3 vs. 7 \n",
      " \n",
      "---------\n",
      "mean:\n",
      "\n",
      "[[559.44 450.56]\n",
      " [454.98 573.02]]\n",
      "---------\n",
      "median:\n",
      "\n",
      "[[ 958.   52.]\n",
      " [  26. 1002.]]\n",
      "---------\n",
      "min:\n",
      "\n",
      "[[45 46]\n",
      " [22 22]]\n",
      "---------\n",
      "max:\n",
      "\n",
      "[[ 964  965]\n",
      " [1006 1006]]\n",
      "---------\n",
      "var:\n",
      "\n",
      "[[203957.0064 203957.0064]\n",
      " [236050.8996 236050.8996]]\n"
     ]
    }
   ],
   "source": [
    "print('Pour matrice de confusion:\\n\\n 3 vs. 7 \\n ')\n",
    "print('---------\\nmean:\\n')\n",
    "print(np.mean(cm_37,0))\n",
    "print('---------\\nmedian:\\n')\n",
    "print(np.median(cm_37,0))\n",
    "print('---------\\nmin:\\n')\n",
    "print(np.amin(cm_37,0))\n",
    "print('---------\\nmax:\\n')\n",
    "print(np.amax(cm_37,0))\n",
    "print('---------\\nvar:\\n')\n",
    "print(np.var(cm_37,0))"
   ]
  },
  {
   "cell_type": "code",
   "execution_count": 10,
   "metadata": {},
   "outputs": [],
   "source": [
    "cm_35 = []\n",
    "for _ in range(50):\n",
    "    cm_35.append(g(3,5))"
   ]
  },
  {
   "cell_type": "code",
   "execution_count": 14,
   "metadata": {},
   "outputs": [
    {
     "name": "stdout",
     "output_type": "stream",
     "text": [
      "Pour matrice de confusion:\n",
      "\n",
      " 3 vs. 5 \n",
      " \n",
      "---------\n",
      "mean:\n",
      "\n",
      "[[489.82 520.18]\n",
      " [456.28 435.72]]\n",
      "---------\n",
      "median:\n",
      "\n",
      "[[352.  658. ]\n",
      " [530.5 361.5]]\n",
      "---------\n",
      "min:\n",
      "\n",
      "[[213 169]\n",
      " [322 319]]\n",
      "---------\n",
      "max:\n",
      "\n",
      "[[841 797]\n",
      " [573 570]]\n",
      "---------\n",
      "var:\n",
      "\n",
      "[[52557.4276 52557.4276]\n",
      " [ 9559.6416  9559.6416]]\n"
     ]
    }
   ],
   "source": [
    "print('Pour matrice de confusion:\\n\\n 3 vs. 5 \\n ')\n",
    "print('---------\\nmean:\\n')\n",
    "print(np.mean(cm_35,0))\n",
    "print('---------\\nmedian:\\n')\n",
    "print(np.median(cm_35,0))\n",
    "print('---------\\nmin:\\n')\n",
    "print(np.amin(cm_35,0))\n",
    "print('---------\\nmax:\\n')\n",
    "print(np.amax(cm_35,0))\n",
    "print('---------\\nvar:\\n')\n",
    "print(np.var(cm_35,0))"
   ]
  },
  {
   "cell_type": "code",
   "execution_count": null,
   "metadata": {},
   "outputs": [],
   "source": []
  },
  {
   "cell_type": "code",
   "execution_count": null,
   "metadata": {},
   "outputs": [],
   "source": []
  }
 ],
 "metadata": {
  "kernelspec": {
   "display_name": "Python 3",
   "language": "python",
   "name": "python3"
  },
  "language_info": {
   "codemirror_mode": {
    "name": "ipython",
    "version": 3
   },
   "file_extension": ".py",
   "mimetype": "text/x-python",
   "name": "python",
   "nbconvert_exporter": "python",
   "pygments_lexer": "ipython3",
   "version": "3.7.3"
  }
 },
 "nbformat": 4,
 "nbformat_minor": 2
}
